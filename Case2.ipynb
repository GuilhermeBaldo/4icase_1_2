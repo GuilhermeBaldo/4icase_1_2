{
  "nbformat": 4,
  "nbformat_minor": 0,
  "metadata": {
    "colab": {
      "name": "Case2.ipynb",
      "provenance": []
    },
    "kernelspec": {
      "name": "python3",
      "display_name": "Python 3"
    }
  },
  "cells": [
    {
      "cell_type": "markdown",
      "metadata": {
        "id": "0_I9LXtYo4cd"
      },
      "source": [
        "#Case 2"
      ]
    },
    {
      "cell_type": "markdown",
      "metadata": {
        "id": "rHUgmlE2pKaF"
      },
      "source": [
        "Importing packages and dependencies"
      ]
    },
    {
      "cell_type": "code",
      "metadata": {
        "id": "m4r0wK3oo1I0"
      },
      "source": [
        "import pandas as pd\r\n",
        "import matplotlib.pyplot as plt\r\n",
        "import numpy as np\r\n",
        "import seaborn as sns"
      ],
      "execution_count": null,
      "outputs": []
    },
    {
      "cell_type": "markdown",
      "metadata": {
        "id": "7YLnm-CxpMy9"
      },
      "source": [
        "Loading the data (data_comexstat.csv)"
      ]
    },
    {
      "cell_type": "code",
      "metadata": {
        "colab": {
          "base_uri": "https://localhost:8080/",
          "height": 198
        },
        "id": "MIg1C9CPpPdM",
        "outputId": "9732bd98-5e79-47e1-d5ad-95ccb86c9e93"
      },
      "source": [
        "df = pd.read_csv('data_comexstat.csv', encoding='latin1')\r\n",
        "df.head()"
      ],
      "execution_count": null,
      "outputs": [
        {
          "output_type": "execute_result",
          "data": {
            "text/html": [
              "<div>\n",
              "<style scoped>\n",
              "    .dataframe tbody tr th:only-of-type {\n",
              "        vertical-align: middle;\n",
              "    }\n",
              "\n",
              "    .dataframe tbody tr th {\n",
              "        vertical-align: top;\n",
              "    }\n",
              "\n",
              "    .dataframe thead th {\n",
              "        text-align: right;\n",
              "    }\n",
              "</style>\n",
              "<table border=\"1\" class=\"dataframe\">\n",
              "  <thead>\n",
              "    <tr style=\"text-align: right;\">\n",
              "      <th></th>\n",
              "      <th>date</th>\n",
              "      <th>product</th>\n",
              "      <th>state</th>\n",
              "      <th>country</th>\n",
              "      <th>type</th>\n",
              "      <th>route</th>\n",
              "      <th>tons</th>\n",
              "      <th>usd</th>\n",
              "    </tr>\n",
              "  </thead>\n",
              "  <tbody>\n",
              "    <tr>\n",
              "      <th>0</th>\n",
              "      <td>1997-01-01</td>\n",
              "      <td>corn</td>\n",
              "      <td>ES</td>\n",
              "      <td>United States</td>\n",
              "      <td>Import</td>\n",
              "      <td>Sea</td>\n",
              "      <td>44.045</td>\n",
              "      <td>113029.0</td>\n",
              "    </tr>\n",
              "    <tr>\n",
              "      <th>1</th>\n",
              "      <td>1997-01-01</td>\n",
              "      <td>corn</td>\n",
              "      <td>GO</td>\n",
              "      <td>Argentina</td>\n",
              "      <td>Import</td>\n",
              "      <td>Ground</td>\n",
              "      <td>54.000</td>\n",
              "      <td>36720.0</td>\n",
              "    </tr>\n",
              "    <tr>\n",
              "      <th>2</th>\n",
              "      <td>1997-01-01</td>\n",
              "      <td>corn</td>\n",
              "      <td>GO</td>\n",
              "      <td>Bolivia</td>\n",
              "      <td>Export</td>\n",
              "      <td>Ground</td>\n",
              "      <td>0.200</td>\n",
              "      <td>180.0</td>\n",
              "    </tr>\n",
              "    <tr>\n",
              "      <th>3</th>\n",
              "      <td>1997-01-01</td>\n",
              "      <td>corn</td>\n",
              "      <td>GO</td>\n",
              "      <td>United States</td>\n",
              "      <td>Export</td>\n",
              "      <td>Sea</td>\n",
              "      <td>3.488</td>\n",
              "      <td>5688.0</td>\n",
              "    </tr>\n",
              "    <tr>\n",
              "      <th>4</th>\n",
              "      <td>1997-01-01</td>\n",
              "      <td>corn</td>\n",
              "      <td>MG</td>\n",
              "      <td>Argentina</td>\n",
              "      <td>Import</td>\n",
              "      <td>Ground</td>\n",
              "      <td>27.000</td>\n",
              "      <td>18630.0</td>\n",
              "    </tr>\n",
              "  </tbody>\n",
              "</table>\n",
              "</div>"
            ],
            "text/plain": [
              "         date product state        country    type   route    tons       usd\n",
              "0  1997-01-01    corn    ES  United States  Import     Sea  44.045  113029.0\n",
              "1  1997-01-01    corn    GO      Argentina  Import  Ground  54.000   36720.0\n",
              "2  1997-01-01    corn    GO        Bolivia  Export  Ground   0.200     180.0\n",
              "3  1997-01-01    corn    GO  United States  Export     Sea   3.488    5688.0\n",
              "4  1997-01-01    corn    MG      Argentina  Import  Ground  27.000   18630.0"
            ]
          },
          "metadata": {
            "tags": []
          },
          "execution_count": 46
        }
      ]
    },
    {
      "cell_type": "markdown",
      "metadata": {
        "id": "XQo4Q2RtswTu"
      },
      "source": [
        "Fixing the date type"
      ]
    },
    {
      "cell_type": "code",
      "metadata": {
        "colab": {
          "base_uri": "https://localhost:8080/",
          "height": 198
        },
        "id": "p_Gv9ALuso5g",
        "outputId": "a3700499-c5fc-4675-e149-79fd584c59f6"
      },
      "source": [
        "df['year'] = pd.DatetimeIndex(df['date']).year\r\n",
        "df['month'] = pd.DatetimeIndex(df['date']).month\r\n",
        "df.head()"
      ],
      "execution_count": null,
      "outputs": [
        {
          "output_type": "execute_result",
          "data": {
            "text/html": [
              "<div>\n",
              "<style scoped>\n",
              "    .dataframe tbody tr th:only-of-type {\n",
              "        vertical-align: middle;\n",
              "    }\n",
              "\n",
              "    .dataframe tbody tr th {\n",
              "        vertical-align: top;\n",
              "    }\n",
              "\n",
              "    .dataframe thead th {\n",
              "        text-align: right;\n",
              "    }\n",
              "</style>\n",
              "<table border=\"1\" class=\"dataframe\">\n",
              "  <thead>\n",
              "    <tr style=\"text-align: right;\">\n",
              "      <th></th>\n",
              "      <th>date</th>\n",
              "      <th>product</th>\n",
              "      <th>state</th>\n",
              "      <th>country</th>\n",
              "      <th>type</th>\n",
              "      <th>route</th>\n",
              "      <th>tons</th>\n",
              "      <th>usd</th>\n",
              "      <th>year</th>\n",
              "      <th>month</th>\n",
              "    </tr>\n",
              "  </thead>\n",
              "  <tbody>\n",
              "    <tr>\n",
              "      <th>0</th>\n",
              "      <td>1997-01-01</td>\n",
              "      <td>corn</td>\n",
              "      <td>ES</td>\n",
              "      <td>United States</td>\n",
              "      <td>Import</td>\n",
              "      <td>Sea</td>\n",
              "      <td>44.045</td>\n",
              "      <td>113029.0</td>\n",
              "      <td>1997</td>\n",
              "      <td>1</td>\n",
              "    </tr>\n",
              "    <tr>\n",
              "      <th>1</th>\n",
              "      <td>1997-01-01</td>\n",
              "      <td>corn</td>\n",
              "      <td>GO</td>\n",
              "      <td>Argentina</td>\n",
              "      <td>Import</td>\n",
              "      <td>Ground</td>\n",
              "      <td>54.000</td>\n",
              "      <td>36720.0</td>\n",
              "      <td>1997</td>\n",
              "      <td>1</td>\n",
              "    </tr>\n",
              "    <tr>\n",
              "      <th>2</th>\n",
              "      <td>1997-01-01</td>\n",
              "      <td>corn</td>\n",
              "      <td>GO</td>\n",
              "      <td>Bolivia</td>\n",
              "      <td>Export</td>\n",
              "      <td>Ground</td>\n",
              "      <td>0.200</td>\n",
              "      <td>180.0</td>\n",
              "      <td>1997</td>\n",
              "      <td>1</td>\n",
              "    </tr>\n",
              "    <tr>\n",
              "      <th>3</th>\n",
              "      <td>1997-01-01</td>\n",
              "      <td>corn</td>\n",
              "      <td>GO</td>\n",
              "      <td>United States</td>\n",
              "      <td>Export</td>\n",
              "      <td>Sea</td>\n",
              "      <td>3.488</td>\n",
              "      <td>5688.0</td>\n",
              "      <td>1997</td>\n",
              "      <td>1</td>\n",
              "    </tr>\n",
              "    <tr>\n",
              "      <th>4</th>\n",
              "      <td>1997-01-01</td>\n",
              "      <td>corn</td>\n",
              "      <td>MG</td>\n",
              "      <td>Argentina</td>\n",
              "      <td>Import</td>\n",
              "      <td>Ground</td>\n",
              "      <td>27.000</td>\n",
              "      <td>18630.0</td>\n",
              "      <td>1997</td>\n",
              "      <td>1</td>\n",
              "    </tr>\n",
              "  </tbody>\n",
              "</table>\n",
              "</div>"
            ],
            "text/plain": [
              "         date product state        country  ...    tons       usd  year  month\n",
              "0  1997-01-01    corn    ES  United States  ...  44.045  113029.0  1997      1\n",
              "1  1997-01-01    corn    GO      Argentina  ...  54.000   36720.0  1997      1\n",
              "2  1997-01-01    corn    GO        Bolivia  ...   0.200     180.0  1997      1\n",
              "3  1997-01-01    corn    GO  United States  ...   3.488    5688.0  1997      1\n",
              "4  1997-01-01    corn    MG      Argentina  ...  27.000   18630.0  1997      1\n",
              "\n",
              "[5 rows x 10 columns]"
            ]
          },
          "metadata": {
            "tags": []
          },
          "execution_count": 51
        }
      ]
    },
    {
      "cell_type": "markdown",
      "metadata": {
        "id": "rHC4lwrXp-lt"
      },
      "source": [
        "##1 Show the evolution of total monthly and total annual exports from Brazil (all states and to everywhere) of ‘soybeans’, ‘soybean oil’ and ‘soybean meal’;"
      ]
    },
    {
      "cell_type": "code",
      "metadata": {
        "colab": {
          "base_uri": "https://localhost:8080/"
        },
        "id": "VJ5Nw9S9qp0F",
        "outputId": "333ad54a-b9b3-4e7f-f4dd-9fe4059424dc"
      },
      "source": [
        "df['product'].unique()"
      ],
      "execution_count": null,
      "outputs": [
        {
          "output_type": "execute_result",
          "data": {
            "text/plain": [
              "array(['corn', 'soybean_meal', 'soybean_oil', 'soybeans', 'sugar',\n",
              "       'wheat'], dtype=object)"
            ]
          },
          "metadata": {
            "tags": []
          },
          "execution_count": 52
        }
      ]
    },
    {
      "cell_type": "code",
      "metadata": {
        "colab": {
          "base_uri": "https://localhost:8080/",
          "height": 198
        },
        "id": "NZ3HOvNSqA-U",
        "outputId": "da482238-e076-40bd-a845-baad7ab63bf7"
      },
      "source": [
        "soy_df = df[df['product'].str.contains('soybean')]\r\n",
        "soy_df.head()"
      ],
      "execution_count": null,
      "outputs": [
        {
          "output_type": "execute_result",
          "data": {
            "text/html": [
              "<div>\n",
              "<style scoped>\n",
              "    .dataframe tbody tr th:only-of-type {\n",
              "        vertical-align: middle;\n",
              "    }\n",
              "\n",
              "    .dataframe tbody tr th {\n",
              "        vertical-align: top;\n",
              "    }\n",
              "\n",
              "    .dataframe thead th {\n",
              "        text-align: right;\n",
              "    }\n",
              "</style>\n",
              "<table border=\"1\" class=\"dataframe\">\n",
              "  <thead>\n",
              "    <tr style=\"text-align: right;\">\n",
              "      <th></th>\n",
              "      <th>date</th>\n",
              "      <th>product</th>\n",
              "      <th>state</th>\n",
              "      <th>country</th>\n",
              "      <th>type</th>\n",
              "      <th>route</th>\n",
              "      <th>tons</th>\n",
              "      <th>usd</th>\n",
              "      <th>year</th>\n",
              "      <th>month</th>\n",
              "    </tr>\n",
              "  </thead>\n",
              "  <tbody>\n",
              "    <tr>\n",
              "      <th>19</th>\n",
              "      <td>1997-01-01</td>\n",
              "      <td>soybean_meal</td>\n",
              "      <td>GO</td>\n",
              "      <td>Netherlands</td>\n",
              "      <td>Export</td>\n",
              "      <td>Sea</td>\n",
              "      <td>419.070</td>\n",
              "      <td>119318.0</td>\n",
              "      <td>1997</td>\n",
              "      <td>1</td>\n",
              "    </tr>\n",
              "    <tr>\n",
              "      <th>20</th>\n",
              "      <td>1997-01-01</td>\n",
              "      <td>soybean_meal</td>\n",
              "      <td>GO</td>\n",
              "      <td>Netherlands</td>\n",
              "      <td>Export</td>\n",
              "      <td>Sea</td>\n",
              "      <td>5000.000</td>\n",
              "      <td>1414250.0</td>\n",
              "      <td>1997</td>\n",
              "      <td>1</td>\n",
              "    </tr>\n",
              "    <tr>\n",
              "      <th>21</th>\n",
              "      <td>1997-01-01</td>\n",
              "      <td>soybean_meal</td>\n",
              "      <td>MS</td>\n",
              "      <td>Germany</td>\n",
              "      <td>Export</td>\n",
              "      <td>Sea</td>\n",
              "      <td>140.672</td>\n",
              "      <td>38378.0</td>\n",
              "      <td>1997</td>\n",
              "      <td>1</td>\n",
              "    </tr>\n",
              "    <tr>\n",
              "      <th>22</th>\n",
              "      <td>1997-01-01</td>\n",
              "      <td>soybean_meal</td>\n",
              "      <td>MS</td>\n",
              "      <td>Hungary</td>\n",
              "      <td>Export</td>\n",
              "      <td>Sea</td>\n",
              "      <td>15000.000</td>\n",
              "      <td>4042100.0</td>\n",
              "      <td>1997</td>\n",
              "      <td>1</td>\n",
              "    </tr>\n",
              "    <tr>\n",
              "      <th>23</th>\n",
              "      <td>1997-01-01</td>\n",
              "      <td>soybean_meal</td>\n",
              "      <td>MS</td>\n",
              "      <td>Netherlands</td>\n",
              "      <td>Export</td>\n",
              "      <td>Sea</td>\n",
              "      <td>14000.000</td>\n",
              "      <td>3850162.0</td>\n",
              "      <td>1997</td>\n",
              "      <td>1</td>\n",
              "    </tr>\n",
              "  </tbody>\n",
              "</table>\n",
              "</div>"
            ],
            "text/plain": [
              "          date       product state  ...        usd  year month\n",
              "19  1997-01-01  soybean_meal    GO  ...   119318.0  1997     1\n",
              "20  1997-01-01  soybean_meal    GO  ...  1414250.0  1997     1\n",
              "21  1997-01-01  soybean_meal    MS  ...    38378.0  1997     1\n",
              "22  1997-01-01  soybean_meal    MS  ...  4042100.0  1997     1\n",
              "23  1997-01-01  soybean_meal    MS  ...  3850162.0  1997     1\n",
              "\n",
              "[5 rows x 10 columns]"
            ]
          },
          "metadata": {
            "tags": []
          },
          "execution_count": 53
        }
      ]
    },
    {
      "cell_type": "code",
      "metadata": {
        "colab": {
          "base_uri": "https://localhost:8080/",
          "height": 325
        },
        "id": "M3spsW0trjmk",
        "outputId": "6517d70f-329f-4cbc-e423-7620d878b3ea"
      },
      "source": [
        "soy_df[soy_df['type'] == 'Export'].groupby(['year', 'product']).sum()['usd'].unstack().plot.bar()"
      ],
      "execution_count": null,
      "outputs": [
        {
          "output_type": "execute_result",
          "data": {
            "text/plain": [
              "<matplotlib.axes._subplots.AxesSubplot at 0x7f6c7742c9b0>"
            ]
          },
          "metadata": {
            "tags": []
          },
          "execution_count": 103
        },
        {
          "output_type": "display_data",
          "data": {
            "image/png": "[encoded data removed]",
            "text/plain": [
              "<Figure size 432x288 with 1 Axes>"
            ]
          },
          "metadata": {
            "tags": [],
            "needs_background": "light"
          }
        }
      ]
    },
    {
      "cell_type": "code",
      "metadata": {
        "colab": {
          "base_uri": "https://localhost:8080/",
          "height": 311
        },
        "id": "5fSLkuQRyknz",
        "outputId": "a20a033a-adc0-4f4b-93f4-0080092f985c"
      },
      "source": [
        "soy_df[soy_df['type'] == 'Export'].groupby(['month', 'product']).sum()['usd'].unstack().plot.bar()"
      ],
      "execution_count": 104,
      "outputs": [
        {
          "output_type": "execute_result",
          "data": {
            "text/plain": [
              "<matplotlib.axes._subplots.AxesSubplot at 0x7f6c777b7748>"
            ]
          },
          "metadata": {
            "tags": []
          },
          "execution_count": 104
        },
        {
          "output_type": "display_data",
          "data": {
            "image/png": "[encoded data removed]",
            "text/plain": [
              "<Figure size 432x288 with 1 Axes>"
            ]
          },
          "metadata": {
            "tags": [],
            "needs_background": "light"
          }
        }
      ]
    },
    {
      "cell_type": "markdown",
      "metadata": {
        "id": "_I_YleJGyp94"
      },
      "source": [
        "##2 What are the 3 most important products exported by Brazil in the last 5 years?\r\n",
        "\r\n"
      ]
    },
    {
      "cell_type": "code",
      "metadata": {
        "colab": {
          "base_uri": "https://localhost:8080/",
          "height": 370
        },
        "id": "8nzjlnl5ykmR",
        "outputId": "a8188c6e-c8c9-4cd6-c0de-31853b5530dd"
      },
      "source": [
        "df[(df['type'] == 'Export') & \r\n",
        "   (df['year'].max() - df['year'] <= 5)].groupby('product').sum().sort_values('usd', ascending=False)['usd'].plot.bar()"
      ],
      "execution_count": 114,
      "outputs": [
        {
          "output_type": "execute_result",
          "data": {
            "text/plain": [
              "<matplotlib.axes._subplots.AxesSubplot at 0x7f6c768ede10>"
            ]
          },
          "metadata": {
            "tags": []
          },
          "execution_count": 114
        },
        {
          "output_type": "display_data",
          "data": {
            "image/png": "[encoded data removed]",
            "text/plain": [
              "<Figure size 432x288 with 1 Axes>"
            ]
          },
          "metadata": {
            "tags": [],
            "needs_background": "light"
          }
        }
      ]
    },
    {
      "cell_type": "markdown",
      "metadata": {
        "id": "yXoqkKl2zoA6"
      },
      "source": [
        "The 3 most important products exported by Brazil in the last 5 years are SOYBEANS, SUGAR and SOYBEAN MEAL"
      ]
    },
    {
      "cell_type": "markdown",
      "metadata": {
        "id": "sUP0sSzDzzyC"
      },
      "source": [
        "##3 What are the main routes through which Brazil have been exporting ‘corn’ in the last few years? Are there differences in the relative importance of routes depending on the product?"
      ]
    },
    {
      "cell_type": "markdown",
      "metadata": {
        "id": "9QivMLbnDYG2"
      },
      "source": [
        "Considering 3 years"
      ]
    },
    {
      "cell_type": "code",
      "metadata": {
        "colab": {
          "base_uri": "https://localhost:8080/",
          "height": 335
        },
        "id": "VKkSjKyd1H4q",
        "outputId": "8eb4e96a-3341-49d4-b348-726d852c59da"
      },
      "source": [
        "df[(df['type'] == 'Export') & \r\n",
        "   (df['product'] == 'corn') & \r\n",
        "   (df['year'].max() - df['year'] <= 3)].groupby('route').sum().sort_values('usd', ascending=False)['usd'].plot.bar()"
      ],
      "execution_count": 149,
      "outputs": [
        {
          "output_type": "execute_result",
          "data": {
            "text/plain": [
              "<matplotlib.axes._subplots.AxesSubplot at 0x7f6c76144400>"
            ]
          },
          "metadata": {
            "tags": []
          },
          "execution_count": 149
        },
        {
          "output_type": "display_data",
          "data": {
            "image/png": "[encoded data removed]",
            "text/plain": [
              "<Figure size 432x288 with 1 Axes>"
            ]
          },
          "metadata": {
            "tags": [],
            "needs_background": "light"
          }
        }
      ]
    },
    {
      "cell_type": "markdown",
      "metadata": {
        "id": "MVghHOp85zbc"
      },
      "source": [
        "The most important exporting route for corn in the last few years is through the SEA."
      ]
    },
    {
      "cell_type": "code",
      "metadata": {
        "colab": {
          "base_uri": "https://localhost:8080/",
          "height": 607
        },
        "id": "LReG8YA11em6",
        "outputId": "929c41d9-b3b9-409e-8460-6e5aef85e1fa"
      },
      "source": [
        "fig, axes = plt.subplots(nrows=2, ncols=3, figsize=(15,10))\r\n",
        "\r\n",
        "for i, prod in enumerate(df['product'].unique()):\r\n",
        "  temp_df = df[(df['type'] == 'Export') & \r\n",
        "               (df['product'] == prod) & \r\n",
        "               (df['year'].max() - df['year'] <= 3)].groupby(['route']).sum().sort_values('usd', ascending=False)['usd']\r\n",
        "  axes[int(i/3), i%3].set_title(f'Exporting routes for {prod}')\r\n",
        "  axes[int(i/3), i%3].bar(temp_df.index, temp_df)"
      ],
      "execution_count": 150,
      "outputs": [
        {
          "output_type": "display_data",
          "data": {
            "image/png": "[encoded data removed]",
            "text/plain": [
              "<Figure size 1080x720 with 6 Axes>"
            ]
          },
          "metadata": {
            "tags": [],
            "needs_background": "light"
          }
        }
      ]
    },
    {
      "cell_type": "markdown",
      "metadata": {
        "id": "4aONjPcv5JSu"
      },
      "source": [
        "It is possible to notice that the exporting route for every product is basically through SEA regardless of the product. \r\n",
        "\r\n",
        "\r\n",
        "The second most important rout is ground for soybeans, sugar, wheat and soybean oil. For corn river is the second most important exporting route and for soybean meal other is the second most important exporting route."
      ]
    },
    {
      "cell_type": "markdown",
      "metadata": {
        "id": "7zRu9Azv5u56"
      },
      "source": [
        "##4 Which countries have been the most important trade partners for Brazil in terms of ‘corn’ and ‘sugar’ in the last 3 years?\r\n",
        "\r\n"
      ]
    },
    {
      "cell_type": "markdown",
      "metadata": {
        "id": "DaSodDT6EqGQ"
      },
      "source": [
        "Plotting the 20 most important trade partners for corn and sugar in the last 3 years."
      ]
    },
    {
      "cell_type": "code",
      "metadata": {
        "colab": {
          "base_uri": "https://localhost:8080/",
          "height": 405
        },
        "id": "1Kt8z21XDiih",
        "outputId": "451b375e-4d09-43a7-8b03-8e868a211f3b"
      },
      "source": [
        "df[((df['product'] == 'corn') | \r\n",
        "    (df['product'] == 'sugar')) & \r\n",
        "    (df['year'].max() - df['year'] <= 3)].groupby('country').sum().sort_values('usd', ascending=False)['usd'][0:20].plot.bar()"
      ],
      "execution_count": 153,
      "outputs": [
        {
          "output_type": "execute_result",
          "data": {
            "text/plain": [
              "<matplotlib.axes._subplots.AxesSubplot at 0x7f6c75d8ed30>"
            ]
          },
          "metadata": {
            "tags": []
          },
          "execution_count": 153
        },
        {
          "output_type": "display_data",
          "data": {
            "image/png": "[encoded data removed]",
            "text/plain": [
              "<Figure size 432x288 with 1 Axes>"
            ]
          },
          "metadata": {
            "tags": [],
            "needs_background": "light"
          }
        }
      ]
    },
    {
      "cell_type": "markdown",
      "metadata": {
        "id": "0--Z1YlBEqEq"
      },
      "source": [
        "We notice that the monst important partners for Brazil in terms of corn and sugar are Iran, Bangladesh, Algeria, Egypt and India.\r\n"
      ]
    },
    {
      "cell_type": "markdown",
      "metadata": {
        "id": "vhl1raTuE69z"
      },
      "source": [
        "##5 For each of the products in the dataset, show the 5 most important states in terms of exports?\r\n",
        "\r\n"
      ]
    },
    {
      "cell_type": "code",
      "metadata": {
        "colab": {
          "base_uri": "https://localhost:8080/",
          "height": 607
        },
        "id": "qmgA2kJ0E_qf",
        "outputId": "5feaad07-f193-48f7-84a6-7f9eb01dee51"
      },
      "source": [
        "fig, axes = plt.subplots(nrows=2, ncols=3, figsize=(15,10))\r\n",
        "\r\n",
        "for i, prod in enumerate(df['product'].unique()):\r\n",
        "  temp_df = df[(df['type'] == 'Export') & \r\n",
        "               (df['product'] == prod)].groupby(['state']).sum().sort_values('usd', ascending=False)[0:5]['usd']\r\n",
        "  axes[int(i/3), i%3].set_title(f'5 Most important exporting states for {prod}')\r\n",
        "  axes[int(i/3), i%3].bar(temp_df.index, temp_df)"
      ],
      "execution_count": 158,
      "outputs": [
        {
          "output_type": "display_data",
          "data": {
            "image/png": "[encoded data removed]",
            "text/plain": [
              "<Figure size 1080x720 with 6 Axes>"
            ]
          },
          "metadata": {
            "tags": [],
            "needs_background": "light"
          }
        }
      ]
    }
  ]
}